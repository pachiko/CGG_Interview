{
 "cells": [
  {
   "cell_type": "code",
   "execution_count": 5,
   "id": "990c33c6",
   "metadata": {},
   "outputs": [],
   "source": [
    "import numpy as np\n",
    "from scipy.fft import fft, ifft"
   ]
  },
  {
   "cell_type": "code",
   "execution_count": 9,
   "id": "b1103cb6",
   "metadata": {},
   "outputs": [
    {
     "name": "stdout",
     "output_type": "stream",
     "text": [
      "[0.36514837 0.73029674 1.09544512 1.46059349]\n"
     ]
    }
   ],
   "source": [
    "arr = [1, 2, 3, 4];\n",
    "rms = np.sqrt(np.mean(np.array(arr)**2))\n",
    "print(arr/rms);"
   ]
  },
  {
   "cell_type": "code",
   "execution_count": 6,
   "id": "a9ae9330",
   "metadata": {},
   "outputs": [
    {
     "name": "stdout",
     "output_type": "stream",
     "text": [
      "[ 4 13 28 27 18]\n",
      "[ 5 16 34 60 61 52 32]\n",
      "[37.+0.j 16.+0.j 34.+0.j 60.+0.j 61.+0.j 52.-0.j]\n"
     ]
    }
   ],
   "source": [
    "a = [1, 2, 3];\n",
    "b = [4, 5, 6];\n",
    "c = np.convolve(a, b);\n",
    "print(c);\n",
    "# [ 4 13 28 27 18]    \n",
    "\n",
    "a = [1, 2, 3, 4];\n",
    "b = [5, 6, 7, 8];\n",
    "print(np.convolve(a, b));\n",
    "#[ 5 16 34 60 61 52 32]\n",
    "\n",
    "a_pad = a + [0, 0];\n",
    "a_fft = fft(a_pad);\n",
    "\n",
    "b_pad = b + [0, 0];\n",
    "b_fft = fft(b_pad);\n",
    "\n",
    "c_fft = a_fft * b_fft;\n",
    "\n",
    "print(ifft(c_fft));\n",
    "# [ 4.+0.j 13.+0.j 28.+0.j 27.+0.j 18.+0.j]"
   ]
  },
  {
   "cell_type": "code",
   "execution_count": null,
   "id": "b6afdb3e",
   "metadata": {},
   "outputs": [],
   "source": []
  }
 ],
 "metadata": {
  "kernelspec": {
   "display_name": "Python 3 (ipykernel)",
   "language": "python",
   "name": "python3"
  },
  "language_info": {
   "codemirror_mode": {
    "name": "ipython",
    "version": 3
   },
   "file_extension": ".py",
   "mimetype": "text/x-python",
   "name": "python",
   "nbconvert_exporter": "python",
   "pygments_lexer": "ipython3",
   "version": "3.9.10"
  }
 },
 "nbformat": 4,
 "nbformat_minor": 5
}
